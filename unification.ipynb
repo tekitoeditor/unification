{
 "cells": [
  {
   "cell_type": "markdown",
   "id": "tender-cleanup",
   "metadata": {},
   "source": [
    "# 自動で表記統一するスクリプト"
   ]
  },
  {
   "cell_type": "markdown",
   "id": "working-basement",
   "metadata": {},
   "source": [
    "## 使い方"
   ]
  },
  {
   "cell_type": "markdown",
   "id": "isolated-hybrid",
   "metadata": {},
   "source": [
    "- 原稿を「before.txt」という名前で作成\n",
    "- 表記統一ルールを「unification.csv」という名前で作成\n",
    "- 原稿と 表記統一ルールを本スクリプトと同じディレクトリに移動\n",
    "- 以下のコードを実行\n",
    "- 「after.txt」という名前の表記統一済みファイルが自動でできる"
   ]
  },
  {
   "cell_type": "code",
   "execution_count": 9,
   "id": "cognitive-astrology",
   "metadata": {},
   "outputs": [],
   "source": [
    "import pandas as pd\n",
    "\n",
    "df = pd.read_csv('unification.csv')\n",
    "fr = open('before.txt', 'r', encoding='utf-8')\n",
    "fw = open('after.txt', 'w', encoding='utf-8')\n",
    "\n",
    "for f in fr:\n",
    "    for d in df.iterrows():\n",
    "        rep = f.replace(d[1][0], d[1][1])\n",
    "        fw.write(rep)"
   ]
  }
 ],
 "metadata": {
  "kernelspec": {
   "display_name": "Python 3",
   "language": "python",
   "name": "python3"
  },
  "language_info": {
   "codemirror_mode": {
    "name": "ipython",
    "version": 3
   },
   "file_extension": ".py",
   "mimetype": "text/x-python",
   "name": "python",
   "nbconvert_exporter": "python",
   "pygments_lexer": "ipython3",
   "version": "3.9.2"
  }
 },
 "nbformat": 4,
 "nbformat_minor": 5
}

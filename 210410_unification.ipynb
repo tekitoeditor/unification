{
 "cells": [
  {
   "cell_type": "markdown",
   "id": "tender-cleanup",
   "metadata": {},
   "source": [
    "# 表記統一するコード"
   ]
  },
  {
   "cell_type": "markdown",
   "id": "working-basement",
   "metadata": {},
   "source": [
    "## 使い方"
   ]
  },
  {
   "cell_type": "markdown",
   "id": "isolated-hybrid",
   "metadata": {},
   "source": [
    "- 原稿を「before.txt」という名前で保存\n",
    "- 表記統一のルールを「unification.csv」という名前で保存\n",
    "- 以下のコードを実行\n",
    "- 「after.txt」という名前の表記統一済みファイルが登場\n",
    "\n",
    "→本コードと原稿・表記統一ルールは同じディレクトリに置いてください！"
   ]
  },
  {
   "cell_type": "code",
   "execution_count": 9,
   "id": "cognitive-astrology",
   "metadata": {},
   "outputs": [],
   "source": [
    "import pandas as pd\n",
    "\n",
    "df = pd.read_csv('unification.csv') #カッコ内でcsvファイルの名前を指定\n",
    "fr = open('before.txt', 'r', encoding='utf-8')\n",
    "fw = open('after.txt', 'w', encoding='utf-8')\n",
    "\n",
    "for f in fr:\n",
    "    for d in df.iterrows():\n",
    "        rep = f.replace(d[1][0], d[1][1])\n",
    "        fw.write(rep)"
   ]
  },
  {
   "cell_type": "code",
   "execution_count": null,
   "id": "typical-jordan",
   "metadata": {},
   "outputs": [],
   "source": []
  }
 ],
 "metadata": {
  "kernelspec": {
   "display_name": "Python 3",
   "language": "python",
   "name": "python3"
  },
  "language_info": {
   "codemirror_mode": {
    "name": "ipython",
    "version": 3
   },
   "file_extension": ".py",
   "mimetype": "text/x-python",
   "name": "python",
   "nbconvert_exporter": "python",
   "pygments_lexer": "ipython3",
   "version": "3.9.2"
  }
 },
 "nbformat": 4,
 "nbformat_minor": 5
}
